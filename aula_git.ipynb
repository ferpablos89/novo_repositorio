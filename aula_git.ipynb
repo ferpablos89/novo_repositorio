{
 "cells": [
  {
   "cell_type": "code",
   "execution_count": null,
   "id": "4d2d262e",
   "metadata": {},
   "outputs": [],
   "source": [
    "import pandas as pd"
   ]
  }
 ],
 "metadata": {
  "language_info": {
   "name": "python"
  }
 },
 "nbformat": 4,
 "nbformat_minor": 5
}
